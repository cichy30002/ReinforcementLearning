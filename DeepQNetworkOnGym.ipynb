{
 "cells": [
  {
   "cell_type": "markdown",
   "id": "ff3251a5",
   "metadata": {},
   "source": [
    "# Deep Q Network algorithm used to solve OpenAI gym task\n",
    "In this notebook I have implemented my DQN agent to solve cartpole problem. It took me a lot of time to properly train a model, but in the end I managed to get average score over 400 which is very good. I think this exercise was a great lesson, I understood deeply how this algorithm works and learned all optimizations used in it. Additionally long hyperparameters tuning process showed me how AI developers life looks like."
   ]
  },
  {
   "cell_type": "code",
   "execution_count": 1,
   "id": "1b20d984",
   "metadata": {},
   "outputs": [
    {
     "name": "stderr",
     "output_type": "stream",
     "text": [
      "2023-05-23 20:37:13.340991: I tensorflow/tsl/cuda/cudart_stub.cc:28] Could not find cuda drivers on your machine, GPU will not be used.\n",
      "2023-05-23 20:37:13.546360: I tensorflow/tsl/cuda/cudart_stub.cc:28] Could not find cuda drivers on your machine, GPU will not be used.\n",
      "2023-05-23 20:37:13.547650: I tensorflow/core/platform/cpu_feature_guard.cc:182] This TensorFlow binary is optimized to use available CPU instructions in performance-critical operations.\n",
      "To enable the following instructions: AVX2 FMA, in other operations, rebuild TensorFlow with the appropriate compiler flags.\n",
      "2023-05-23 20:37:14.953760: W tensorflow/compiler/tf2tensorrt/utils/py_utils.cc:38] TF-TRT Warning: Could not find TensorRT\n"
     ]
    }
   ],
   "source": [
    "import gymnasium as gym\n",
    "import numpy as np\n",
    "import matplotlib.pyplot as plt\n",
    "import seaborn as sns\n",
    "import tensorflow as tf\n",
    "from tqdm import tqdm\n",
    "import pickle\n",
    "from collections import deque\n",
    "import random"
   ]
  },
  {
   "cell_type": "markdown",
   "id": "ddd4e5d8",
   "metadata": {},
   "source": [
    "#### Investigating environment\n",
    "Let's start by running environment with graphical display and taking some random actions in it. Next I will check how action and observation space looks like to properly build an agent."
   ]
  },
  {
   "cell_type": "code",
   "execution_count": 41,
   "id": "29f3fc55",
   "metadata": {},
   "outputs": [],
   "source": [
    "env = gym.make('CartPole-v1', render_mode='human')\n",
    "observation, info = env.reset()\n",
    "for _ in range(500):\n",
    "   action = env.action_space.sample()  # this is where you would insert your policy\n",
    "   observation, reward, terminated, truncated, info = env.step(action)\n",
    "\n",
    "   if terminated or truncated:\n",
    "      observation, info = env.reset()\n",
    "env.close()"
   ]
  },
  {
   "cell_type": "code",
   "execution_count": 3,
   "id": "e22cf39c",
   "metadata": {},
   "outputs": [
    {
     "data": {
      "text/plain": [
       "array([ 0.03484626,  0.03265911,  0.01581742, -0.03918906], dtype=float32)"
      ]
     },
     "execution_count": 3,
     "metadata": {},
     "output_type": "execute_result"
    }
   ],
   "source": [
    "env = gym.make('CartPole-v1', render_mode=\"rgb_array\")\n",
    "observation, info = env.reset()\n",
    "observation"
   ]
  },
  {
   "cell_type": "code",
   "execution_count": 4,
   "id": "f02b2066",
   "metadata": {},
   "outputs": [
    {
     "data": {
      "text/plain": [
       "Box([-4.8000002e+00 -3.4028235e+38 -4.1887903e-01 -3.4028235e+38], [4.8000002e+00 3.4028235e+38 4.1887903e-01 3.4028235e+38], (4,), float32)"
      ]
     },
     "execution_count": 4,
     "metadata": {},
     "output_type": "execute_result"
    }
   ],
   "source": [
    "env.observation_space"
   ]
  },
  {
   "cell_type": "code",
   "execution_count": 5,
   "id": "51d6024f",
   "metadata": {},
   "outputs": [
    {
     "data": {
      "text/plain": [
       "0"
      ]
     },
     "execution_count": 5,
     "metadata": {},
     "output_type": "execute_result"
    }
   ],
   "source": [
    "env.action_space.sample()"
   ]
  },
  {
   "cell_type": "code",
   "execution_count": 6,
   "id": "2850a445",
   "metadata": {},
   "outputs": [
    {
     "data": {
      "text/plain": [
       "Discrete(2)"
      ]
     },
     "execution_count": 6,
     "metadata": {},
     "output_type": "execute_result"
    }
   ],
   "source": [
    "env.action_space"
   ]
  },
  {
   "cell_type": "code",
   "execution_count": 7,
   "id": "e00a77d7",
   "metadata": {},
   "outputs": [],
   "source": [
    "env.close()"
   ]
  },
  {
   "cell_type": "markdown",
   "id": "0bcf4fbb",
   "metadata": {},
   "source": [
    "#### Network\n",
    "Now I implemented 2 classes - DQN inheriting from tf.keras.Model - it is just a simple feedforward neural network architecture used later for both my networks, and second class - ReplayBuffer responsible for storing agents expiriences for training."
   ]
  },
  {
   "cell_type": "code",
   "execution_count": 2,
   "id": "8f8e20e1",
   "metadata": {},
   "outputs": [],
   "source": [
    "class DQN(tf.keras.Model):\n",
    "    def __init__(self, num_actions):\n",
    "        super(DQN, self).__init__()\n",
    "        self.num_actions = num_actions\n",
    "        self.layer1 = tf.keras.layers.Dense(64, activation=\"relu\")\n",
    "        self.layer2 = tf.keras.layers.Dense(64, activation=\"relu\")\n",
    "        self.layer3 = tf.keras.layers.Dense(num_actions, activation=None)\n",
    "        \n",
    "    def call(self,x):\n",
    "        x = self.layer1(x)\n",
    "        x = self.layer2(x)\n",
    "        return self.layer3(x)\n",
    "    \n",
    "    def get_config(self):\n",
    "        return {\"num_actions\": self.num_actions}"
   ]
  },
  {
   "cell_type": "code",
   "execution_count": 3,
   "id": "f193992d",
   "metadata": {},
   "outputs": [],
   "source": [
    "class ReplayBuffer():\n",
    "    def __init__(self, size):\n",
    "        self.memory = deque(maxlen=size)\n",
    "        \n",
    "    def add(self, transition):\n",
    "        self.memory.append(transition)\n",
    "        \n",
    "    def getBatch(self, batch_size):\n",
    "        return random.sample(self.memory, batch_size)\n",
    "    \n",
    "    def __len__(self):\n",
    "        return len(self.memory)"
   ]
  },
  {
   "cell_type": "markdown",
   "id": "4d6bc94c",
   "metadata": {},
   "source": [
    "#### Agent\n",
    "Now it's time to build DQN agent. It has 2 neural networks - policy_net and target_net used to predict Q values in the future. Get action method is similar as in Q learning agent - it takes random action or trained action from policy net with probability based on epsilon. Then optimize method is responsible for training policy network - it's implementation of main formula of DQN. And also worth mentioning is soft update that takes target net a bit closer to policy net every step."
   ]
  },
  {
   "cell_type": "code",
   "execution_count": 11,
   "id": "04613ce6",
   "metadata": {},
   "outputs": [],
   "source": [
    "class DQNAgent:\n",
    "    def __init__(self, num_actions, num_observations, learning_rate=0.001, batch_size=128, tau=0.005, buffer_size = 5_000,\n",
    "                 epsilon=0.7, epsilon_decay=0.0001, final_epsilon=0.1, discount_factor=0.9):\n",
    "        self.lr = learning_rate\n",
    "        self.batch_size = batch_size\n",
    "        self.tau = tau\n",
    "        \n",
    "        self.discount_factor = discount_factor\n",
    "        self.epsilon = epsilon\n",
    "        self.epsilon_decay = epsilon_decay\n",
    "        self.final_epsilon = final_epsilon\n",
    "        \n",
    "        self.policy_net = DQN(num_actions)\n",
    "        self.target_net = DQN(num_actions)\n",
    "        self.replay_buffer = ReplayBuffer(buffer_size)\n",
    "        \n",
    "        self.policy_net.compile(optimizer=tf.keras.optimizers.Adam(learning_rate=self.lr, clipvalue=0.5), loss='mse')\n",
    "        self.target_net.compile(optimizer=tf.keras.optimizers.Adam(learning_rate=self.lr, clipvalue=0.5), loss='mse')\n",
    "        \n",
    "        self.policy_net.build((1,num_observations[0]))\n",
    "        self.target_net.build((1,num_observations[0]))\n",
    "        self.target_net.set_weights(self.policy_net.get_weights())\n",
    "        \n",
    "    def get_action(self, obs):\n",
    "        if np.random.random() < self.epsilon:\n",
    "            return env.action_space.sample()\n",
    "        else:\n",
    "            x = self.policy_net(obs)\n",
    "            return int(tf.argmax(x[0]))\n",
    "    \n",
    "    def optimize(self):\n",
    "        if len(self.replay_buffer) < self.batch_size:\n",
    "            return\n",
    "        transitions = self.replay_buffer.getBatch(self.batch_size)\n",
    "        states, actions, next_states, rewards, dones = zip(*transitions)\n",
    "        dones = np.array(dones)\n",
    "        target = []\n",
    "        for i, res in enumerate(self.target_net(tf.convert_to_tensor(next_states, dtype=tf.float32))):\n",
    "            max_q = tf.fill(res.shape, tf.reduce_max(res))\n",
    "            target.append(rewards[i] + self.discount_factor*dones[i]*max_q)\n",
    "        target = tf.convert_to_tensor(target, dtype=tf.float32)\n",
    "        states = tf.squeeze(tf.convert_to_tensor(states),axis=1)\n",
    "        history = self.policy_net.fit(states,target, epochs=8, batch_size=self.batch_size, verbose=0)\n",
    "        return history.history[\"loss\"]\n",
    "        \n",
    "    def soft_update(self):\n",
    "        policy_weights = self.policy_net.get_weights()\n",
    "        target_weights = self.target_net.get_weights()\n",
    "        updated_weights = []\n",
    "        for i in range(len(policy_weights)):\n",
    "            updated_weights.append(self.tau*policy_weights[i] + (1-self.tau)*target_weights[i])\n",
    "        self.target_net.set_weights(updated_weights)\n",
    "        \n",
    "    def observe(self, state, action, next_state, reward, done):\n",
    "        transition = (state, action, next_state, reward, done)\n",
    "        self.replay_buffer.add(transition)\n",
    "        \n",
    "    def decay_epsilon(self):\n",
    "        self.epsilon = max(self.final_epsilon, self.epsilon - self.epsilon_decay)\n",
    "        \n",
    "    def save(self, path):\n",
    "        self.target_net.save('target_network')\n",
    "        self.policy_net.save('policy_network')\n",
    "            \n",
    "    def load(self, path):\n",
    "        self.target_net = tf.keras.load_model('target_network')\n",
    "        self.policy_net = tf.keras.load_model('policy_network')"
   ]
  },
  {
   "cell_type": "markdown",
   "id": "90011308",
   "metadata": {},
   "source": [
    "#### Training\n",
    "Setting hyperparameters and training. Finally I have managed to find out good values for hyperparameters (setting discount_factor to 1.0 was really tricky). Training loop is similar to other RL trainings. I'm optimizing model and soft updating target net once per episode. After training I have prepared simple average duration plot to investigate results."
   ]
  },
  {
   "cell_type": "code",
   "execution_count": 12,
   "id": "f7026528",
   "metadata": {},
   "outputs": [],
   "source": [
    "env = gym.make('CartPole-v1')\n",
    "observation_space = env.observation_space.shape\n",
    "action_space = env.action_space.n\n",
    "\n",
    "n_episodes = 5_000\n",
    "start_eps = 1.0\n",
    "final_eps = 0.01\n",
    "\n",
    "lr = 0.0001\n",
    "batch_size = 64\n",
    "discount_factor = 1.0\n",
    "tau = 0.1\n",
    "eps_dec = 0.002\n",
    "agent = DQNAgent(action_space, observation_space, learning_rate=lr, batch_size = batch_size, tau=tau,\n",
    "                 epsilon=start_eps, epsilon_decay=eps_dec, final_epsilon=final_eps, discount_factor=discount_factor)\n"
   ]
  },
  {
   "cell_type": "code",
   "execution_count": 13,
   "id": "a00e4757",
   "metadata": {
    "scrolled": false
   },
   "outputs": [
    {
     "name": "stderr",
     "output_type": "stream",
     "text": [
      " 37%|█████████████████████████████▎                                                 | 1859/5000 [08:41<14:41,  3.56it/s]"
     ]
    },
    {
     "name": "stdout",
     "output_type": "stream",
     "text": [
      "ended after episode 1859\n"
     ]
    },
    {
     "name": "stderr",
     "output_type": "stream",
     "text": [
      "\n"
     ]
    }
   ],
   "source": [
    "losses = []\n",
    "duration = []\n",
    "for episode in tqdm(range(n_episodes)):\n",
    "    obs, info = env.reset()\n",
    "    obs = tf.reshape(tf.convert_to_tensor(obs, dtype=tf.float32), shape=(1,observation_space[0]))\n",
    "    done = False\n",
    "    ep_len = 0\n",
    "    ep_rew = 0\n",
    "    while not done:\n",
    "        action = agent.get_action(obs)\n",
    "        next_obs, reward, terminated, truncated, info = env.step(action)\n",
    "        done = terminated or truncated\n",
    "        agent.observe(obs, action, next_obs, reward, 1 - int(done))\n",
    "\n",
    "        \n",
    "        obs = next_obs\n",
    "        obs = tf.reshape(tf.convert_to_tensor(obs, dtype=tf.float32), shape=(1,observation_space[0]))\n",
    "        ep_len+=1\n",
    "        \n",
    "    losses.append(agent.optimize())\n",
    "    agent.soft_update()\n",
    "    agent.decay_epsilon()\n",
    "    #print(\"episode {}: length(reward): {} epsilon: {:.2f}\".format(episode,ep_len,agent.epsilon))\n",
    "    duration.append(ep_len)\n",
    "    if sum(duration[-20:-1]) > 400*19:\n",
    "        print(\"ended after episode {}\".format(episode))\n",
    "        break\n",
    "    "
   ]
  },
  {
   "cell_type": "code",
   "execution_count": 28,
   "id": "10a3d251",
   "metadata": {},
   "outputs": [
    {
     "data": {
      "image/png": "[encoded data removed]",
      "text/plain": [
       "<Figure size 640x480 with 1 Axes>"
      ]
     },
     "metadata": {},
     "output_type": "display_data"
    }
   ],
   "source": [
    "avg_range = 50\n",
    "\n",
    "plt.plot(duration)\n",
    "rolling_avg = [np.mean(duration[i:i+avg_range]) for i in range(0,len(duration)-avg_range)]\n",
    "plt.plot(rolling_avg)\n",
    "plt.xlabel(\"Episode\")\n",
    "plt.ylabel(\"Duration (reward)\")\n",
    "plt.title(\"Rewards during training\")\n",
    "plt.show()"
   ]
  },
  {
   "cell_type": "markdown",
   "id": "49933df3",
   "metadata": {},
   "source": [
    "#### Evaluation\n",
    "Now let's save the model and check in simulation how it performs."
   ]
  },
  {
   "cell_type": "code",
   "execution_count": 21,
   "id": "f74ecd1b",
   "metadata": {},
   "outputs": [
    {
     "name": "stderr",
     "output_type": "stream",
     "text": [
      "WARNING:absl:Found untraced functions such as _update_step_xla while saving (showing 1 of 1). These functions will not be directly callable after loading.\n"
     ]
    },
    {
     "name": "stdout",
     "output_type": "stream",
     "text": [
      "INFO:tensorflow:Assets written to: target_network/assets\n"
     ]
    },
    {
     "name": "stderr",
     "output_type": "stream",
     "text": [
      "INFO:tensorflow:Assets written to: target_network/assets\n",
      "WARNING:absl:Found untraced functions such as _update_step_xla while saving (showing 1 of 1). These functions will not be directly callable after loading.\n"
     ]
    },
    {
     "name": "stdout",
     "output_type": "stream",
     "text": [
      "INFO:tensorflow:Assets written to: policy_network/assets\n"
     ]
    },
    {
     "name": "stderr",
     "output_type": "stream",
     "text": [
      "INFO:tensorflow:Assets written to: policy_network/assets\n"
     ]
    }
   ],
   "source": [
    "agent.save('')"
   ]
  },
  {
   "cell_type": "code",
   "execution_count": 20,
   "id": "ea476d7d",
   "metadata": {},
   "outputs": [
    {
     "name": "stderr",
     "output_type": "stream",
     "text": [
      "100%|█████████████████████████████████████████████████████████████████████████████████████| 5/5 [00:43<00:00,  8.77s/it]\n"
     ]
    }
   ],
   "source": [
    "env = gym.make('CartPole-v1', render_mode=\"human\")\n",
    "for episode in tqdm(range(5)):\n",
    "    obs, info = env.reset()\n",
    "    obs = tf.reshape(tf.convert_to_tensor(obs, dtype=tf.float32), shape=(1,observation_space[0]))\n",
    "    done = False\n",
    "    \n",
    "\n",
    "    while not done:\n",
    "        action = agent.get_action(obs)\n",
    "        next_obs, reward, terminated, truncated, info = env.step(action)\n",
    "        agent.observe(obs, action, next_obs, reward, 1-int(done))\n",
    "\n",
    "        done = terminated or truncated\n",
    "        obs = next_obs\n",
    "        obs = tf.reshape(tf.convert_to_tensor(obs, dtype=tf.float32), shape=(1,observation_space[0]))\n",
    "\n",
    "env.close()"
   ]
  },
  {
   "cell_type": "code",
   "execution_count": 37,
   "id": "3e66313f",
   "metadata": {},
   "outputs": [],
   "source": [
    "env.close()"
   ]
  },
  {
   "cell_type": "code",
   "execution_count": null,
   "id": "23042f33",
   "metadata": {},
   "outputs": [],
   "source": []
  }
 ],
 "metadata": {
  "kernelspec": {
   "display_name": "Python 3 (ipykernel)",
   "language": "python",
   "name": "python3"
  },
  "language_info": {
   "codemirror_mode": {
    "name": "ipython",
    "version": 3
   },
   "file_extension": ".py",
   "mimetype": "text/x-python",
   "name": "python",
   "nbconvert_exporter": "python",
   "pygments_lexer": "ipython3",
   "version": "3.8.10"
  }
 },
 "nbformat": 4,
 "nbformat_minor": 5
}
