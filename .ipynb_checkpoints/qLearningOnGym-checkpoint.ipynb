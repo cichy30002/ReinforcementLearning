{
 "cells": [
  {
   "cell_type": "markdown",
   "id": "ca767340",
   "metadata": {},
   "source": [
    "# Q learning algorithm used to solve easy openAI gym task\n",
    "In this notebook I have implemented a simple verion of Q Learning agent. I trained it on Taxi-v3 problem from gymnasium package. Then I used a visualization from gymnasium documentation example to evaluate. I also have run this model with visual display to observe policy on real examples."
   ]
  },
  {
   "cell_type": "code",
   "execution_count": 2,
   "id": "3bbafe94",
   "metadata": {},
   "outputs": [],
   "source": [
    "import gymnasium as gym\n",
    "from collections import defaultdict\n",
    "import numpy as np\n",
    "import matplotlib.pyplot as plt\n",
    "import seaborn as sns\n",
    "from matplotlib.patches import Patch\n",
    "from tqdm import tqdm\n",
    "import pickle"
   ]
  },
  {
   "cell_type": "markdown",
   "id": "9dbd5011",
   "metadata": {},
   "source": [
    "#### Investigating environment\n",
    "Let's start by running environment with graphical display and taking some random actions in it. Next we check how action and observation space looks like."
   ]
  },
  {
   "cell_type": "code",
   "execution_count": 183,
   "id": "1d5e68e5",
   "metadata": {},
   "outputs": [],
   "source": [
    "env = gym.make('Taxi-v3', render_mode=\"human\")\n",
    "observation, info = env.reset()\n",
    "for _ in range(500):\n",
    "   action = env.action_space.sample()  # this is where you would insert your policy\n",
    "   observation, reward, terminated, truncated, info = env.step(action)\n",
    "\n",
    "   if terminated or truncated:\n",
    "      observation, info = env.reset()\n",
    "env.close()"
   ]
  },
  {
   "cell_type": "code",
   "execution_count": 184,
   "id": "85259e0b",
   "metadata": {},
   "outputs": [
    {
     "data": {
      "text/plain": [
       "412"
      ]
     },
     "execution_count": 184,
     "metadata": {},
     "output_type": "execute_result"
    }
   ],
   "source": [
    "env = gym.make('Taxi-v3', render_mode=\"rgb_array\")\n",
    "observation, info = env.reset()\n",
    "observation"
   ]
  },
  {
   "cell_type": "code",
   "execution_count": 185,
   "id": "3ac55c94",
   "metadata": {},
   "outputs": [
    {
     "data": {
      "text/plain": [
       "Discrete(500)"
      ]
     },
     "execution_count": 185,
     "metadata": {},
     "output_type": "execute_result"
    }
   ],
   "source": [
    "env.observation_space"
   ]
  },
  {
   "cell_type": "code",
   "execution_count": 186,
   "id": "ba6199a1",
   "metadata": {},
   "outputs": [
    {
     "data": {
      "text/plain": [
       "2"
      ]
     },
     "execution_count": 186,
     "metadata": {},
     "output_type": "execute_result"
    }
   ],
   "source": [
    "env.action_space.sample()"
   ]
  },
  {
   "cell_type": "code",
   "execution_count": 187,
   "id": "bae1a3de",
   "metadata": {},
   "outputs": [
    {
     "data": {
      "text/plain": [
       "Discrete(6)"
      ]
     },
     "execution_count": 187,
     "metadata": {},
     "output_type": "execute_result"
    }
   ],
   "source": [
    "env.action_space"
   ]
  },
  {
   "cell_type": "code",
   "execution_count": 188,
   "id": "4cdc7ffb",
   "metadata": {},
   "outputs": [],
   "source": [
    "env.close()"
   ]
  },
  {
   "cell_type": "markdown",
   "id": "0ae090c7",
   "metadata": {},
   "source": [
    "#### Agent\n",
    "Here I implemented Q Learning Agent class. It's pretty simple, just formulas from definition. Additional features such as epsilon decay or saving/loading model parameters are implemented as well."
   ]
  },
  {
   "cell_type": "code",
   "execution_count": 4,
   "id": "37f1128f",
   "metadata": {},
   "outputs": [],
   "source": [
    "def dictHelper():\n",
    "    return np.zeros(env.action_space.n)\n",
    "class qLearningAgent:\n",
    "    def __init__(self, learning_rate=0.001, epsilon=0.7, epsilon_decay=0.0001, final_epsilon=0.1, discount_factor=0.9):\n",
    "        self.q_values = defaultdict(dictHelper)\n",
    "\n",
    "        self.lr = learning_rate\n",
    "        self.discount_factor = discount_factor\n",
    "        self.epsilon = epsilon\n",
    "        self.epsilon_decay = epsilon_decay\n",
    "        self.final_epsilon = final_epsilon\n",
    "        \n",
    "        self.training_error = []\n",
    "        \n",
    "    def get_action(self, obs):\n",
    "        if np.random.random() < self.epsilon:\n",
    "            return env.action_space.sample()\n",
    "        else:\n",
    "            return int(np.argmax(self.q_values[obs]))\n",
    "        \n",
    "    def update(self, obs, action, reward, terminated, next_obs):\n",
    "        future_q_value = (not terminated) * np.max(self.q_values[next_obs])\n",
    "        temporal_difference = reward + self.discount_factor * future_q_value - self.q_values[obs][action]\n",
    "\n",
    "        self.q_values[obs][action] = (1 - self.lr)*self.q_values[obs][action] + self.lr * temporal_difference\n",
    "        self.training_error.append(temporal_difference)\n",
    "\n",
    "    def decay_epsilon(self):\n",
    "        self.epsilon = max(self.final_epsilon, self.epsilon - self.epsilon_decay)\n",
    "        \n",
    "    def save(self, path):\n",
    "        with open(path, 'wb') as file:\n",
    "            pickle.dump(self.q_values, file)\n",
    "            \n",
    "    def load(self, path):\n",
    "        with open(path, 'rb') as file:\n",
    "            self.q_values = pickle.load(file)"
   ]
  },
  {
   "cell_type": "markdown",
   "id": "c8eee502",
   "metadata": {},
   "source": [
    "#### Training\n",
    "Now it's time to train my agent. Those hyperparameters lead to very good results but probably tuning them better could save some computational time. It wasn't that bad so I left them as is. Training loop is pretty self explainatory so it doesn't need any comment."
   ]
  },
  {
   "cell_type": "code",
   "execution_count": 190,
   "id": "088a2247",
   "metadata": {},
   "outputs": [],
   "source": [
    "n_episodes = 250_000\n",
    "start_eps = 0.85\n",
    "final_eps = 0.0\n",
    "eps_dec = (start_eps-final_eps)/(n_episodes*0.9)\n",
    "agent = qLearningAgent(learning_rate=0.001, epsilon=start_eps, epsilon_decay=eps_dec,\n",
    "                       final_epsilon=final_eps, discount_factor=0.9)"
   ]
  },
  {
   "cell_type": "code",
   "execution_count": 191,
   "id": "abb1059a",
   "metadata": {},
   "outputs": [
    {
     "name": "stderr",
     "output_type": "stream",
     "text": [
      "100%|█████████████████████████████████████| 250000/250000 [20:17<00:00, 205.42it/s]\n"
     ]
    }
   ],
   "source": [
    "env = gym.make('Taxi-v3', render_mode=\"rgb_array\")\n",
    "env = gym.wrappers.RecordEpisodeStatistics(env, deque_size=n_episodes)\n",
    "for episode in tqdm(range(n_episodes)):\n",
    "    obs, info = env.reset()\n",
    "    done = False\n",
    "\n",
    "    while not done:\n",
    "        action = agent.get_action(obs)\n",
    "        next_obs, reward, terminated, truncated, info = env.step(action)\n",
    "\n",
    "        agent.update(obs, action, reward, terminated, next_obs)\n",
    "\n",
    "        done = terminated or truncated\n",
    "        obs = next_obs\n",
    "\n",
    "    agent.decay_epsilon()"
   ]
  },
  {
   "cell_type": "markdown",
   "id": "fe79b363",
   "metadata": {},
   "source": [
    "#### Evaluation\n",
    "After training I used some visualizations from gymnasium documentation example to check if my agent really learned and how. Then only thing left was watching how my artificial taxi driver takes some folks home. I also saved and loaded model to be sure that no progess is lost."
   ]
  },
  {
   "cell_type": "code",
   "execution_count": 192,
   "id": "8212fc52",
   "metadata": {},
   "outputs": [
    {
     "data": {
      "image/png": "[encoded data removed]",
      "text/plain": [
       "<Figure size 1200x500 with 3 Axes>"
      ]
     },
     "metadata": {},
     "output_type": "display_data"
    }
   ],
   "source": [
    "rolling_length = 500\n",
    "fig, axs = plt.subplots(ncols=3, figsize=(12, 5))\n",
    "axs[0].set_title(\"Episode rewards\")\n",
    "# compute and assign a rolling average of the data to provide a smoother graph\n",
    "reward_moving_average = (\n",
    "    np.convolve(\n",
    "        np.array(env.return_queue).flatten(), np.ones(rolling_length), mode=\"valid\"\n",
    "    )\n",
    "    / rolling_length\n",
    ")\n",
    "axs[0].plot(range(len(reward_moving_average)), reward_moving_average)\n",
    "axs[1].set_title(\"Episode lengths\")\n",
    "length_moving_average = (\n",
    "    np.convolve(\n",
    "        np.array(env.length_queue).flatten(), np.ones(rolling_length), mode=\"same\"\n",
    "    )\n",
    "    / rolling_length\n",
    ")\n",
    "axs[1].plot(range(len(length_moving_average)), length_moving_average)\n",
    "axs[2].set_title(\"Training Error\")\n",
    "training_error_moving_average = (\n",
    "    np.convolve(np.array(agent.training_error), np.ones(rolling_length), mode=\"same\")\n",
    "    / rolling_length\n",
    ")\n",
    "axs[2].plot(range(len(training_error_moving_average)), training_error_moving_average)\n",
    "plt.tight_layout()\n",
    "plt.show()"
   ]
  },
  {
   "cell_type": "code",
   "execution_count": 193,
   "id": "0d09c4a5",
   "metadata": {},
   "outputs": [],
   "source": [
    "agent.save('taxi_save.pkl')"
   ]
  },
  {
   "cell_type": "code",
   "execution_count": 5,
   "id": "1a29051e",
   "metadata": {},
   "outputs": [],
   "source": [
    "agent = qLearningAgent()\n",
    "agent.load('taxi_save.pkl')"
   ]
  },
  {
   "cell_type": "code",
   "execution_count": null,
   "id": "bc01a67e",
   "metadata": {},
   "outputs": [],
   "source": [
    "env = gym.make('Taxi-v3', render_mode=\"human\")\n",
    "agent.epsilon = 0.0\n",
    "for episode in range(10):\n",
    "    obs, info = env.reset()\n",
    "    done = False\n",
    "\n",
    "    while not done:\n",
    "        action = agent.get_action(obs)\n",
    "        next_obs, reward, terminated, truncated, info = env.step(action)\n",
    "\n",
    "        done = terminated or truncated\n",
    "        obs = next_obs\n",
    "\n",
    "env.close()"
   ]
  },
  {
   "cell_type": "code",
   "execution_count": 196,
   "id": "3f2bf09e",
   "metadata": {},
   "outputs": [],
   "source": [
    "env.close()"
   ]
  },
  {
   "cell_type": "code",
   "execution_count": null,
   "id": "33d0d2b1",
   "metadata": {},
   "outputs": [],
   "source": []
  }
 ],
 "metadata": {
  "kernelspec": {
   "display_name": "Python 3 (ipykernel)",
   "language": "python",
   "name": "python3"
  },
  "language_info": {
   "codemirror_mode": {
    "name": "ipython",
    "version": 3
   },
   "file_extension": ".py",
   "mimetype": "text/x-python",
   "name": "python",
   "nbconvert_exporter": "python",
   "pygments_lexer": "ipython3",
   "version": "3.8.10"
  }
 },
 "nbformat": 4,
 "nbformat_minor": 5
}
